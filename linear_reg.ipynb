{
 "cells": [
  {
   "cell_type": "code",
   "execution_count": 2,
   "metadata": {},
   "outputs": [],
   "source": [
    "import numpy as np\n",
    "import pandas as pd"
   ]
  },
  {
   "cell_type": "code",
   "execution_count": 3,
   "metadata": {},
   "outputs": [
    {
     "name": "stdout",
     "output_type": "stream",
     "text": [
      "2.2.3\n",
      "2.2.3\n"
     ]
    }
   ],
   "source": [
    "print(np.__version__)\n",
    "print(pd.__version__)"
   ]
  },
  {
   "cell_type": "markdown",
   "metadata": {},
   "source": [
    "Data: House Prices\n",
    "\n",
    "\n",
    "https://github.com/kshitizrohilla/house-price-prediction-using-simple-linear-regression/blob/main/data/house-prices.csv"
   ]
  },
  {
   "cell_type": "code",
   "execution_count": 95,
   "metadata": {},
   "outputs": [
    {
     "data": {
      "text/html": [
       "<div>\n",
       "<style scoped>\n",
       "    .dataframe tbody tr th:only-of-type {\n",
       "        vertical-align: middle;\n",
       "    }\n",
       "\n",
       "    .dataframe tbody tr th {\n",
       "        vertical-align: top;\n",
       "    }\n",
       "\n",
       "    .dataframe thead th {\n",
       "        text-align: right;\n",
       "    }\n",
       "</style>\n",
       "<table border=\"1\" class=\"dataframe\">\n",
       "  <thead>\n",
       "    <tr style=\"text-align: right;\">\n",
       "      <th></th>\n",
       "      <th>area</th>\n",
       "      <th>price</th>\n",
       "    </tr>\n",
       "  </thead>\n",
       "  <tbody>\n",
       "    <tr>\n",
       "      <th>0</th>\n",
       "      <td>1567</td>\n",
       "      <td>177067.50</td>\n",
       "    </tr>\n",
       "    <tr>\n",
       "      <th>1</th>\n",
       "      <td>3345</td>\n",
       "      <td>511748.20</td>\n",
       "    </tr>\n",
       "    <tr>\n",
       "      <th>2</th>\n",
       "      <td>3722</td>\n",
       "      <td>404096.67</td>\n",
       "    </tr>\n",
       "    <tr>\n",
       "      <th>3</th>\n",
       "      <td>2783</td>\n",
       "      <td>357916.31</td>\n",
       "    </tr>\n",
       "    <tr>\n",
       "      <th>4</th>\n",
       "      <td>2949</td>\n",
       "      <td>362409.54</td>\n",
       "    </tr>\n",
       "  </tbody>\n",
       "</table>\n",
       "</div>"
      ],
      "text/plain": [
       "   area      price\n",
       "0  1567  177067.50\n",
       "1  3345  511748.20\n",
       "2  3722  404096.67\n",
       "3  2783  357916.31\n",
       "4  2949  362409.54"
      ]
     },
     "execution_count": 95,
     "metadata": {},
     "output_type": "execute_result"
    }
   ],
   "source": [
    "dataset = pd.read_csv(\"house_prices.csv\")\n",
    "dataset.head()\n",
    "# dataset = dataset.iloc[:100].copy()"
   ]
  },
  {
   "cell_type": "code",
   "execution_count": 96,
   "metadata": {},
   "outputs": [
    {
     "data": {
      "text/plain": [
       "area     0\n",
       "price    0\n",
       "dtype: int64"
      ]
     },
     "execution_count": 96,
     "metadata": {},
     "output_type": "execute_result"
    }
   ],
   "source": [
    "dataset.isna().sum()"
   ]
  },
  {
   "cell_type": "code",
   "execution_count": 97,
   "metadata": {},
   "outputs": [
    {
     "data": {
      "text/plain": [
       "(1000, 2)"
      ]
     },
     "execution_count": 97,
     "metadata": {},
     "output_type": "execute_result"
    }
   ],
   "source": [
    "dataset.shape"
   ]
  },
  {
   "cell_type": "code",
   "execution_count": 90,
   "metadata": {},
   "outputs": [],
   "source": [
    "def loss(m, b, dataset):\n",
    "    error = 0\n",
    "    total = dataset.shape[0]\n",
    "\n",
    "    for i in range(total):\n",
    "        x = dataset.iloc[i].area\n",
    "        y = dataset.iloc[i].price\n",
    "\n",
    "        calculated_value = m*x + b\n",
    "        error += (y - calculated_value)**2\n",
    "    \n",
    "    error /= total\n",
    "    return error\n",
    "    "
   ]
  },
  {
   "cell_type": "code",
   "execution_count": 91,
   "metadata": {},
   "outputs": [],
   "source": [
    "def gradient_descent(m, b, dataset, LR = 0.01):\n",
    "\n",
    "    m_grad, b_grad = 0, 0\n",
    "    total = dataset.shape[0]\n",
    "\n",
    "    for i in range(total):\n",
    "        x = dataset.iloc[i].area\n",
    "        y = dataset.iloc[i].price\n",
    "\n",
    "        \n",
    "        m_grad += -(2/total) * x * (y - (m * x +b))\n",
    "        b_grad += -(2/total)  * (y - (m * x +b))\n",
    "        \n",
    "    updated_m = m - m_grad * LR \n",
    "    updated_b = b - b_grad * LR\n",
    "\n",
    "    return updated_m, updated_b\n",
    "\n"
   ]
  },
  {
   "cell_type": "code",
   "execution_count": 92,
   "metadata": {},
   "outputs": [
    {
     "name": "stdout",
     "output_type": "stream",
     "text": [
      "3.10.1\n"
     ]
    }
   ],
   "source": [
    "import matplotlib\n",
    "print(matplotlib.__version__)\n",
    "import matplotlib.pyplot as plt"
   ]
  },
  {
   "cell_type": "code",
   "execution_count": 93,
   "metadata": {},
   "outputs": [],
   "source": [
    "import random \n",
    "def train(epochs = 100, m = 1, b = 1, LR = 0.001):\n",
    "    \n",
    "    for _ in range(epochs):\n",
    "        m, b = gradient_descent(m, b, dataset, LR)\n",
    "        \n",
    "        if _ % 10 == 0:\n",
    "            loss_val = loss(m, b, dataset)\n",
    "            print(\"epoch\", _, \"loss\", loss_val)\n",
    "\n",
    "    \n",
    "    print(\"finished training\")\n",
    "    print(m, b)\n",
    "\n",
    "    # plot the fitted line \n",
    "\n",
    "    # getting random 50 points in seq\n",
    "    rnd = random.randint(1,950)\n",
    "    start = rnd \n",
    "    end = rnd + 50\n",
    "\n",
    "    plt.scatter(dataset.area, dataset.price)\n",
    "    plt.plot(list(range(start, end)), [m * x + b for x in range(start, end)], color = \"red\")\n",
    "    plt.show()\n"
   ]
  },
  {
   "cell_type": "code",
   "execution_count": 94,
   "metadata": {},
   "outputs": [
    {
     "name": "stdout",
     "output_type": "stream",
     "text": [
      "epoch 0 loss 5.464183835627995e+19\n",
      "epoch 10 loss 4.687514383176485e+105\n",
      "epoch 20 loss 4.021239357427595e+191\n",
      "epoch 30 loss 3.449667488543653e+277\n",
      "epoch 40 loss inf\n"
     ]
    },
    {
     "name": "stderr",
     "output_type": "stream",
     "text": [
      "/var/folders/17/mgxkwwr97nq856_lvjfg5_th0000gn/T/ipykernel_56120/2888613957.py:10: RuntimeWarning: overflow encountered in scalar power\n",
      "  error += (y - calculated_value)**2\n",
      "/var/folders/17/mgxkwwr97nq856_lvjfg5_th0000gn/T/ipykernel_56120/1067264923.py:11: RuntimeWarning: overflow encountered in scalar add\n",
      "  m_grad += -(2/total) * x * (y - (m * x +b))\n",
      "/var/folders/17/mgxkwwr97nq856_lvjfg5_th0000gn/T/ipykernel_56120/1067264923.py:11: RuntimeWarning: overflow encountered in scalar multiply\n",
      "  m_grad += -(2/total) * x * (y - (m * x +b))\n",
      "/var/folders/17/mgxkwwr97nq856_lvjfg5_th0000gn/T/ipykernel_56120/1067264923.py:14: RuntimeWarning: invalid value encountered in scalar subtract\n",
      "  updated_m = m - m_grad * LR\n"
     ]
    },
    {
     "name": "stdout",
     "output_type": "stream",
     "text": [
      "epoch 50 loss inf\n",
      "epoch 60 loss inf\n",
      "epoch 70 loss inf\n",
      "epoch 80 loss nan\n",
      "epoch 90 loss nan\n",
      "finished training\n",
      "nan nan\n"
     ]
    },
    {
     "data": {
      "image/png": "[encoded data removed]",
      "text/plain": [
       "<Figure size 640x480 with 1 Axes>"
      ]
     },
     "metadata": {},
     "output_type": "display_data"
    }
   ],
   "source": [
    "train()"
   ]
  },
  {
   "cell_type": "code",
   "execution_count": 23,
   "metadata": {},
   "outputs": [
    {
     "data": {
      "text/plain": [
       "1000"
      ]
     },
     "execution_count": 23,
     "metadata": {},
     "output_type": "execute_result"
    }
   ],
   "source": [
    "dataset.shape[0]"
   ]
  },
  {
   "cell_type": "code",
   "execution_count": null,
   "metadata": {},
   "outputs": [],
   "source": []
  }
 ],
 "metadata": {
  "kernelspec": {
   "display_name": "ml_algos",
   "language": "python",
   "name": "python3"
  },
  "language_info": {
   "codemirror_mode": {
    "name": "ipython",
    "version": 3
   },
   "file_extension": ".py",
   "mimetype": "text/x-python",
   "name": "python",
   "nbconvert_exporter": "python",
   "pygments_lexer": "ipython3",
   "version": "3.10.0"
  }
 },
 "nbformat": 4,
 "nbformat_minor": 2
}
